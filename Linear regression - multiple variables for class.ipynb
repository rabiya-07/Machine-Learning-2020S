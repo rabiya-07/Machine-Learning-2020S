{
 "cells": [
  {
   "cell_type": "code",
   "execution_count": 1,
   "id": "f750fc8d",
   "metadata": {},
   "outputs": [
    {
     "name": "stdout",
     "output_type": "stream",
     "text": [
      "Regression Coefficients (for X1 and X2): [ 2.28163009 -1.67210031]\n",
      "Intercept: 2.7995611285266437\n",
      "Prediction for X1 = 3, X2 = 2: 6.300250783699057\n"
     ]
    }
   ],
   "source": [
    "# Import the necessary libraries\n",
    "import numpy as np\n",
    "from sklearn.linear_model import LinearRegression\n",
    "import matplotlib.pyplot as plt  # Import Matplotlib for plotting\n",
    "\n",
    "# Sample data (you can replace this with your own data)\n",
    "X1 = np.array([3,4,5,6,2])  # First independent variable\n",
    "X2 = np.array([8,5,7,3,1])   # Second independent variable\n",
    "y = np.array([-3.7,3.5,2.5,11.5,5.7]) # The value we want to predict\n",
    "\n",
    "# Combine the two independent variables into a single dataset\n",
    "data = np.column_stack((X1, X2))\n",
    "\n",
    "# Create a Linear Regression model\n",
    "model = LinearRegression()\n",
    "\n",
    "# Train (fit) the model using our data\n",
    "model.fit(data, y)\n",
    "\n",
    "# Make predictions for new data points\n",
    "X1_new = np.array([3])\n",
    "X2_new = np.array([2])\n",
    "new_data = np.column_stack((X1_new, X2_new))\n",
    "y_pred = model.predict(new_data)\n",
    "\n",
    "# Print the results\n",
    "print(\"Regression Coefficients (for X1 and X2):\", model.coef_)\n",
    "print(\"Intercept:\", model.intercept_)\n",
    "\n",
    "# Print the predictions for the new data points\n",
    "for i in range(len(X1_new)):\n",
    "    print(f\"Prediction for X1 = {X1_new[i]}, X2 = {X2_new[i]}: {y_pred[i]}\")"
   ]
  },
  {
   "cell_type": "code",
   "execution_count": null,
   "id": "22fedd7a",
   "metadata": {},
   "outputs": [],
   "source": []
  }
 ],
 "metadata": {
  "kernelspec": {
   "display_name": "Python 3 (ipykernel)",
   "language": "python",
   "name": "python3"
  },
  "language_info": {
   "codemirror_mode": {
    "name": "ipython",
    "version": 3
   },
   "file_extension": ".py",
   "mimetype": "text/x-python",
   "name": "python",
   "nbconvert_exporter": "python",
   "pygments_lexer": "ipython3",
   "version": "3.10.0"
  }
 },
 "nbformat": 4,
 "nbformat_minor": 5
}
