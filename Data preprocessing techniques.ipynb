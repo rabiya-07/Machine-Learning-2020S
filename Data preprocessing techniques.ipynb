{
 "cells": [
  {
   "cell_type": "code",
   "execution_count": 1,
   "id": "01a437f2",
   "metadata": {},
   "outputs": [],
   "source": [
    "# https://www.youtube.com/watch?v=LF79PaCjeFU&list=PLTmQbi1PYZ_EnBmO1-E0Z81ArnE-zSR1a"
   ]
  },
  {
   "cell_type": "markdown",
   "id": "4a20fc80",
   "metadata": {},
   "source": [
    "#### Data Preprocessing tutorial ###"
   ]
  },
  {
   "cell_type": "code",
   "execution_count": 2,
   "id": "613b915d",
   "metadata": {},
   "outputs": [],
   "source": [
    "import numpy as np\n",
    "import pandas as pd\n",
    "from sklearn.impute import SimpleImputer\n",
    "from sklearn.preprocessing import LabelEncoder"
   ]
  },
  {
   "cell_type": "markdown",
   "id": "b240df9a",
   "metadata": {},
   "source": [
    "#### Load Dataset"
   ]
  },
  {
   "cell_type": "code",
   "execution_count": 3,
   "id": "bfd4135a",
   "metadata": {},
   "outputs": [],
   "source": [
    "dataset = pd.read_csv('EmployData.csv')"
   ]
  },
  {
   "cell_type": "markdown",
   "id": "8d917c84",
   "metadata": {},
   "source": [
    "##### create depedent and indepedent variable vetor"
   ]
  },
  {
   "cell_type": "code",
   "execution_count": 4,
   "id": "392e6102",
   "metadata": {},
   "outputs": [],
   "source": [
    "x = dataset.iloc[:,:-1].values"
   ]
  },
  {
   "cell_type": "code",
   "execution_count": 5,
   "id": "edcb9c82",
   "metadata": {},
   "outputs": [
    {
     "name": "stdout",
     "output_type": "stream",
     "text": [
      "[['Mumbai' 3.0 51000.0]\n",
      " ['Newyork' 27.0 48000.0]\n",
      " ['Mumbai' 30.0 52000.0]\n",
      " ['Newyork' nan 66000.0]\n",
      " ['Tokyo' 48.0 nan]\n",
      " ['Tokyo' nan 51000.0]\n",
      " ['Singapore' 33.0 69000.0]\n",
      " ['Newyork' 105.0 79000.0]\n",
      " ['Newyork' 35.0 56000.0]\n",
      " ['Tokyo' nan 50000.0]\n",
      " ['Newyork' 105.0 79000.0]\n",
      " ['Mumbai' 2.0 76543.0]]\n"
     ]
    }
   ],
   "source": [
    "print(x)"
   ]
  },
  {
   "cell_type": "code",
   "execution_count": 6,
   "id": "b45b4b12",
   "metadata": {},
   "outputs": [],
   "source": [
    "y = dataset.iloc[:,-1].values"
   ]
  },
  {
   "cell_type": "code",
   "execution_count": 7,
   "id": "d5d21872",
   "metadata": {},
   "outputs": [
    {
     "name": "stdout",
     "output_type": "stream",
     "text": [
      "['Yes' 'Yes' 'No' 'No' 'Yes' 'No' 'No' 'Yes' 'No' 'No' 'Yes' 'Yes']\n"
     ]
    }
   ],
   "source": [
    "print(y)"
   ]
  },
  {
   "cell_type": "markdown",
   "id": "1dc5a715",
   "metadata": {},
   "source": [
    "##### handle missing values"
   ]
  },
  {
   "cell_type": "code",
   "execution_count": 8,
   "id": "99cdbc9e",
   "metadata": {},
   "outputs": [
    {
     "name": "stdout",
     "output_type": "stream",
     "text": [
      "City                  0\n",
      "Age                   3\n",
      "Salary                1\n",
      "Eligible for bonus    0\n",
      "dtype: int64\n"
     ]
    }
   ],
   "source": [
    "print(dataset.isnull().sum())"
   ]
  },
  {
   "cell_type": "code",
   "execution_count": 9,
   "id": "aa5fa137",
   "metadata": {},
   "outputs": [],
   "source": [
    "#dataset.dropna(inplace=True)\n",
    "#print(dataset)\n"
   ]
  },
  {
   "cell_type": "code",
   "execution_count": 10,
   "id": "0592cb7f",
   "metadata": {},
   "outputs": [
    {
     "name": "stdout",
     "output_type": "stream",
     "text": [
      "         City    Age   Salary Eligible for bonus\n",
      "0      Mumbai    3.0  51000.0                Yes\n",
      "1     Newyork   27.0  48000.0                Yes\n",
      "2      Mumbai   30.0  52000.0                 No\n",
      "3     Newyork    NaN  66000.0                 No\n",
      "4       Tokyo   48.0      NaN                Yes\n",
      "5       Tokyo    NaN  51000.0                 No\n",
      "6   Singapore   33.0  69000.0                 No\n",
      "7     Newyork  105.0  79000.0                Yes\n",
      "8     Newyork   35.0  56000.0                 No\n",
      "9       Tokyo    NaN  50000.0                 No\n",
      "10    Newyork  105.0  79000.0                Yes\n",
      "11     Mumbai    2.0  76543.0                Yes\n"
     ]
    }
   ],
   "source": [
    "print(dataset)"
   ]
  },
  {
   "cell_type": "code",
   "execution_count": 11,
   "id": "ed28f587",
   "metadata": {},
   "outputs": [],
   "source": [
    "# print(dataset.describe())"
   ]
  },
  {
   "cell_type": "code",
   "execution_count": 12,
   "id": "e8ec357c",
   "metadata": {},
   "outputs": [],
   "source": [
    "from sklearn.impute import SimpleImputer"
   ]
  },
  {
   "cell_type": "code",
   "execution_count": 13,
   "id": "0f43dd48",
   "metadata": {},
   "outputs": [],
   "source": [
    "imputer = SimpleImputer(missing_values=np.nan,strategy='mean')\n",
    "#imputer = SimpleImputer(missing_values=np.nan,strategy='median')\n",
    "#imputer = SimpleImputer(missing_values=np.nan,strategy='mode')\n",
    "#imputer = SimpleImputer(missing_values=np.nan,strategy='constant',fill_value=10000)"
   ]
  },
  {
   "cell_type": "code",
   "execution_count": 14,
   "id": "13b955bf",
   "metadata": {},
   "outputs": [
    {
     "data": {
      "text/html": [
       "<style>#sk-container-id-1 {color: black;}#sk-container-id-1 pre{padding: 0;}#sk-container-id-1 div.sk-toggleable {background-color: white;}#sk-container-id-1 label.sk-toggleable__label {cursor: pointer;display: block;width: 100%;margin-bottom: 0;padding: 0.3em;box-sizing: border-box;text-align: center;}#sk-container-id-1 label.sk-toggleable__label-arrow:before {content: \"▸\";float: left;margin-right: 0.25em;color: #696969;}#sk-container-id-1 label.sk-toggleable__label-arrow:hover:before {color: black;}#sk-container-id-1 div.sk-estimator:hover label.sk-toggleable__label-arrow:before {color: black;}#sk-container-id-1 div.sk-toggleable__content {max-height: 0;max-width: 0;overflow: hidden;text-align: left;background-color: #f0f8ff;}#sk-container-id-1 div.sk-toggleable__content pre {margin: 0.2em;color: black;border-radius: 0.25em;background-color: #f0f8ff;}#sk-container-id-1 input.sk-toggleable__control:checked~div.sk-toggleable__content {max-height: 200px;max-width: 100%;overflow: auto;}#sk-container-id-1 input.sk-toggleable__control:checked~label.sk-toggleable__label-arrow:before {content: \"▾\";}#sk-container-id-1 div.sk-estimator input.sk-toggleable__control:checked~label.sk-toggleable__label {background-color: #d4ebff;}#sk-container-id-1 div.sk-label input.sk-toggleable__control:checked~label.sk-toggleable__label {background-color: #d4ebff;}#sk-container-id-1 input.sk-hidden--visually {border: 0;clip: rect(1px 1px 1px 1px);clip: rect(1px, 1px, 1px, 1px);height: 1px;margin: -1px;overflow: hidden;padding: 0;position: absolute;width: 1px;}#sk-container-id-1 div.sk-estimator {font-family: monospace;background-color: #f0f8ff;border: 1px dotted black;border-radius: 0.25em;box-sizing: border-box;margin-bottom: 0.5em;}#sk-container-id-1 div.sk-estimator:hover {background-color: #d4ebff;}#sk-container-id-1 div.sk-parallel-item::after {content: \"\";width: 100%;border-bottom: 1px solid gray;flex-grow: 1;}#sk-container-id-1 div.sk-label:hover label.sk-toggleable__label {background-color: #d4ebff;}#sk-container-id-1 div.sk-serial::before {content: \"\";position: absolute;border-left: 1px solid gray;box-sizing: border-box;top: 0;bottom: 0;left: 50%;z-index: 0;}#sk-container-id-1 div.sk-serial {display: flex;flex-direction: column;align-items: center;background-color: white;padding-right: 0.2em;padding-left: 0.2em;position: relative;}#sk-container-id-1 div.sk-item {position: relative;z-index: 1;}#sk-container-id-1 div.sk-parallel {display: flex;align-items: stretch;justify-content: center;background-color: white;position: relative;}#sk-container-id-1 div.sk-item::before, #sk-container-id-1 div.sk-parallel-item::before {content: \"\";position: absolute;border-left: 1px solid gray;box-sizing: border-box;top: 0;bottom: 0;left: 50%;z-index: -1;}#sk-container-id-1 div.sk-parallel-item {display: flex;flex-direction: column;z-index: 1;position: relative;background-color: white;}#sk-container-id-1 div.sk-parallel-item:first-child::after {align-self: flex-end;width: 50%;}#sk-container-id-1 div.sk-parallel-item:last-child::after {align-self: flex-start;width: 50%;}#sk-container-id-1 div.sk-parallel-item:only-child::after {width: 0;}#sk-container-id-1 div.sk-dashed-wrapped {border: 1px dashed gray;margin: 0 0.4em 0.5em 0.4em;box-sizing: border-box;padding-bottom: 0.4em;background-color: white;}#sk-container-id-1 div.sk-label label {font-family: monospace;font-weight: bold;display: inline-block;line-height: 1.2em;}#sk-container-id-1 div.sk-label-container {text-align: center;}#sk-container-id-1 div.sk-container {/* jupyter's `normalize.less` sets `[hidden] { display: none; }` but bootstrap.min.css set `[hidden] { display: none !important; }` so we also need the `!important` here to be able to override the default hidden behavior on the sphinx rendered scikit-learn.org. See: https://github.com/scikit-learn/scikit-learn/issues/21755 */display: inline-block !important;position: relative;}#sk-container-id-1 div.sk-text-repr-fallback {display: none;}</style><div id=\"sk-container-id-1\" class=\"sk-top-container\"><div class=\"sk-text-repr-fallback\"><pre>SimpleImputer()</pre><b>In a Jupyter environment, please rerun this cell to show the HTML representation or trust the notebook. <br />On GitHub, the HTML representation is unable to render, please try loading this page with nbviewer.org.</b></div><div class=\"sk-container\" hidden><div class=\"sk-item\"><div class=\"sk-estimator sk-toggleable\"><input class=\"sk-toggleable__control sk-hidden--visually\" id=\"sk-estimator-id-1\" type=\"checkbox\" checked><label for=\"sk-estimator-id-1\" class=\"sk-toggleable__label sk-toggleable__label-arrow\">SimpleImputer</label><div class=\"sk-toggleable__content\"><pre>SimpleImputer()</pre></div></div></div></div></div>"
      ],
      "text/plain": [
       "SimpleImputer()"
      ]
     },
     "execution_count": 14,
     "metadata": {},
     "output_type": "execute_result"
    }
   ],
   "source": [
    "imputer.fit(x[:,1:3])"
   ]
  },
  {
   "cell_type": "code",
   "execution_count": 15,
   "id": "4130c4f8",
   "metadata": {},
   "outputs": [],
   "source": [
    "x[:,1:3]=imputer.transform(x[:,1:3])"
   ]
  },
  {
   "cell_type": "code",
   "execution_count": 16,
   "id": "063ead69",
   "metadata": {},
   "outputs": [],
   "source": [
    "# print(dataset.describe())"
   ]
  },
  {
   "cell_type": "code",
   "execution_count": 17,
   "id": "55cd3519",
   "metadata": {},
   "outputs": [
    {
     "name": "stdout",
     "output_type": "stream",
     "text": [
      "              Age        Salary\n",
      "count    9.000000     11.000000\n",
      "mean    43.111111  61594.818182\n",
      "std     38.050770  12532.728967\n",
      "min      2.000000  48000.000000\n",
      "25%     27.000000  51000.000000\n",
      "50%     33.000000  56000.000000\n",
      "75%     48.000000  72771.500000\n",
      "max    105.000000  79000.000000\n",
      "[[3.0 51000.0]\n",
      " [27.0 48000.0]\n",
      " [30.0 52000.0]\n",
      " [43.111111111111114 66000.0]\n",
      " [48.0 61594.818181818184]\n",
      " [43.111111111111114 51000.0]\n",
      " [33.0 69000.0]\n",
      " [105.0 79000.0]\n",
      " [35.0 56000.0]\n",
      " [43.111111111111114 50000.0]\n",
      " [105.0 79000.0]\n",
      " [2.0 76543.0]]\n"
     ]
    }
   ],
   "source": [
    "print(dataset.describe())\n",
    "print(x[:,1:3])"
   ]
  },
  {
   "cell_type": "markdown",
   "id": "2bde3f4f",
   "metadata": {},
   "source": [
    "##### Data encoding: handle/Encode Categorical data\n",
    "# One Hot Encoding"
   ]
  },
  {
   "cell_type": "code",
   "execution_count": 52,
   "id": "7bd481b8",
   "metadata": {},
   "outputs": [],
   "source": [
    "from sklearn.compose import ColumnTransformer"
   ]
  },
  {
   "cell_type": "code",
   "execution_count": 53,
   "id": "bb81a40e",
   "metadata": {},
   "outputs": [],
   "source": [
    "from sklearn.preprocessing import OneHotEncoder"
   ]
  },
  {
   "cell_type": "code",
   "execution_count": 54,
   "id": "9562d5e0",
   "metadata": {},
   "outputs": [],
   "source": [
    "ct = ColumnTransformer(transformers=[('encoder',OneHotEncoder(),[1])],remainder=\"passthrough\")"
   ]
  },
  {
   "cell_type": "code",
   "execution_count": 55,
   "id": "c06c85cd",
   "metadata": {},
   "outputs": [],
   "source": [
    "x = np.array(ct.fit_transform(x))"
   ]
  },
  {
   "cell_type": "code",
   "execution_count": 51,
   "id": "e90b65fe",
   "metadata": {},
   "outputs": [
    {
     "name": "stdout",
     "output_type": "stream",
     "text": [
      "[[1.0 0.0 1.0 0.0 0.0 3.0 51000.0]\n",
      " [0.0 1.0 0.0 0.0 0.0 27.0 48000.0]\n",
      " [1.0 0.0 1.0 0.0 0.0 30.0 52000.0]\n",
      " [0.0 1.0 0.0 0.0 0.0 43.111111111111114 66000.0]\n",
      " [1.0 0.0 0.0 0.0 1.0 48.0 61594.818181818184]\n",
      " [1.0 0.0 0.0 0.0 1.0 43.111111111111114 51000.0]\n",
      " [1.0 0.0 0.0 1.0 0.0 33.0 69000.0]\n",
      " [0.0 1.0 0.0 0.0 0.0 105.0 79000.0]\n",
      " [0.0 1.0 0.0 0.0 0.0 35.0 56000.0]\n",
      " [1.0 0.0 0.0 0.0 1.0 43.111111111111114 50000.0]\n",
      " [0.0 1.0 0.0 0.0 0.0 105.0 79000.0]\n",
      " [1.0 0.0 1.0 0.0 0.0 2.0 76543.0]]\n"
     ]
    }
   ],
   "source": [
    "print (x)"
   ]
  },
  {
   "cell_type": "markdown",
   "id": "5c9831a2",
   "metadata": {},
   "source": [
    "##### Label Encoding"
   ]
  },
  {
   "cell_type": "code",
   "execution_count": 23,
   "id": "260e3690",
   "metadata": {},
   "outputs": [],
   "source": [
    "from sklearn.preprocessing import LabelEncoder                "
   ]
  },
  {
   "cell_type": "code",
   "execution_count": 24,
   "id": "8613be1c",
   "metadata": {},
   "outputs": [],
   "source": [
    "le = LabelEncoder()"
   ]
  },
  {
   "cell_type": "code",
   "execution_count": 25,
   "id": "73501f7a",
   "metadata": {},
   "outputs": [],
   "source": [
    "y= le.fit_transform(y)"
   ]
  },
  {
   "cell_type": "code",
   "execution_count": 26,
   "id": "f887775e",
   "metadata": {},
   "outputs": [
    {
     "name": "stdout",
     "output_type": "stream",
     "text": [
      "[1 1 0 0 1 0 0 1 0 0 1 1]\n"
     ]
    }
   ],
   "source": [
    "print(y)"
   ]
  },
  {
   "cell_type": "markdown",
   "id": "f8469dcd",
   "metadata": {},
   "source": [
    "##### split the dataset for training and testing"
   ]
  },
  {
   "cell_type": "code",
   "execution_count": 27,
   "id": "afec24ca",
   "metadata": {},
   "outputs": [],
   "source": [
    "from sklearn.model_selection import train_test_split"
   ]
  },
  {
   "cell_type": "code",
   "execution_count": 57,
   "id": "1f90a5ee",
   "metadata": {},
   "outputs": [],
   "source": [
    "x_train,x_test,y_train,y_test = train_test_split(x,y,test_size=0.25,random_state = 2)"
   ]
  },
  {
   "cell_type": "code",
   "execution_count": 58,
   "id": "587e7e49",
   "metadata": {},
   "outputs": [
    {
     "name": "stdout",
     "output_type": "stream",
     "text": [
      "[[0.0 1.0 0.0 0.0 0.0 0.0 105.0 79000.0]\n",
      " [0.0 1.0 0.0 0.0 0.0 0.0 27.0 48000.0]\n",
      " [0.0 1.0 0.0 0.0 0.0 0.0 105.0 79000.0]\n",
      " [1.0 0.0 1.0 1.0 0.0 0.0 3.0 51000.0]\n",
      " [0.0 1.0 0.0 0.0 0.0 0.0 43.111111111111114 66000.0]\n",
      " [1.0 0.0 1.0 1.0 0.0 0.0 30.0 52000.0]\n",
      " [1.0 0.0 1.0 0.0 1.0 0.0 33.0 69000.0]\n",
      " [1.0 0.0 1.0 1.0 0.0 0.0 2.0 76543.0]\n",
      " [0.0 1.0 0.0 0.0 0.0 0.0 35.0 56000.0]]\n"
     ]
    }
   ],
   "source": [
    "print(x_train)"
   ]
  },
  {
   "cell_type": "code",
   "execution_count": 30,
   "id": "39bf1589",
   "metadata": {},
   "outputs": [
    {
     "name": "stdout",
     "output_type": "stream",
     "text": [
      "[[1.0 0.0 0.0 0.0 30.0 52000.0]\n",
      " [0.0 1.0 0.0 0.0 43.111111111111114 66000.0]\n",
      " [0.0 0.0 0.0 1.0 48.0 61594.818181818184]]\n"
     ]
    }
   ],
   "source": [
    "print(x_test)"
   ]
  },
  {
   "cell_type": "code",
   "execution_count": 31,
   "id": "8ef3b3f2",
   "metadata": {
    "scrolled": false
   },
   "outputs": [
    {
     "name": "stdout",
     "output_type": "stream",
     "text": [
      "[1 1 0 1 1 1 0 0 0]\n"
     ]
    }
   ],
   "source": [
    "print(y_train)"
   ]
  },
  {
   "cell_type": "code",
   "execution_count": 32,
   "id": "cc9cdef2",
   "metadata": {},
   "outputs": [
    {
     "name": "stdout",
     "output_type": "stream",
     "text": [
      "[0 0 1]\n"
     ]
    }
   ],
   "source": [
    "print(y_test)"
   ]
  },
  {
   "cell_type": "markdown",
   "id": "4b948cb2",
   "metadata": {},
   "source": [
    "#### feature scaling - Standarisation & Normalization"
   ]
  },
  {
   "cell_type": "code",
   "execution_count": 33,
   "id": "49753896",
   "metadata": {},
   "outputs": [],
   "source": [
    "from sklearn.preprocessing import StandardScaler"
   ]
  },
  {
   "cell_type": "code",
   "execution_count": 34,
   "id": "684b9710",
   "metadata": {},
   "outputs": [],
   "source": [
    "scaler =StandardScaler()"
   ]
  },
  {
   "cell_type": "code",
   "execution_count": 35,
   "id": "c645b439",
   "metadata": {},
   "outputs": [],
   "source": [
    "x_train[:,4:]= scaler.fit_transform(x_train[:,4:])"
   ]
  },
  {
   "cell_type": "code",
   "execution_count": 36,
   "id": "9b5c5873",
   "metadata": {},
   "outputs": [],
   "source": [
    "x_test[:,4:]= scaler.fit_transform(x_test[:,4:])"
   ]
  },
  {
   "cell_type": "code",
   "execution_count": 37,
   "id": "2512fb50",
   "metadata": {},
   "outputs": [
    {
     "name": "stdout",
     "output_type": "stream",
     "text": [
      "[[0.0 1.0 0.0 0.0 1.7147951453420254 1.3229775236102221]\n",
      " [0.0 1.0 0.0 0.0 -0.47878163705743093 -1.1140886343570688]\n",
      " [0.0 0.0 1.0 0.0 -0.31004496148824195 0.5368271500723862]\n",
      " [1.0 0.0 0.0 0.0 -1.1537283393341866 -0.878243522295718]\n",
      " [0.0 1.0 0.0 0.0 1.7147951453420254 1.3229775236102221]\n",
      " [1.0 0.0 0.0 0.0 -1.1818511185957181 1.129820376831976]\n",
      " [0.0 0.0 0.0 1.0 -0.025692415621645717 -0.9568585596495016]\n",
      " [0.0 1.0 0.0 0.0 -0.253799402965179 -0.48516833552680017]\n",
      " [0.0 0.0 0.0 1.0 -0.025692415621645717 -0.878243522295718]]\n"
     ]
    }
   ],
   "source": [
    "print(x_train)"
   ]
  },
  {
   "cell_type": "markdown",
   "id": "ef46df62",
   "metadata": {},
   "source": [
    "##### outliers"
   ]
  },
  {
   "cell_type": "code",
   "execution_count": 38,
   "id": "21ad0fde",
   "metadata": {},
   "outputs": [
    {
     "name": "stdout",
     "output_type": "stream",
     "text": [
      "[[1.0 0.0 0.0 0.0 -1.364571677001927 -1.345606174126926]\n",
      " [0.0 1.0 0.0 0.0 0.3606368003505091 1.049642599473749]\n",
      " [0.0 0.0 0.0 1.0 1.003934876651417 0.2959635746531784]]\n"
     ]
    }
   ],
   "source": [
    "print(x_test)"
   ]
  },
  {
   "cell_type": "code",
   "execution_count": 39,
   "id": "334bef03",
   "metadata": {},
   "outputs": [],
   "source": [
    "import matplotlib.pyplot as plt"
   ]
  },
  {
   "cell_type": "code",
   "execution_count": 40,
   "id": "70caff05",
   "metadata": {},
   "outputs": [],
   "source": [
    "%matplotlib inline"
   ]
  },
  {
   "cell_type": "code",
   "execution_count": 41,
   "id": "b92c6d7e",
   "metadata": {},
   "outputs": [],
   "source": [
    "#define our dataset\n",
    "our_dataset = [11,10,12,14,12,15,14,13,15,102,12,14,12,108,12,11,14,13,15,10,15,12,10,14,13,15,10]"
   ]
  },
  {
   "cell_type": "code",
   "execution_count": 42,
   "id": "2ad601c8",
   "metadata": {},
   "outputs": [
    {
     "data": {
      "text/plain": [
       "(array([25.,  0.,  0.,  0.,  0.,  0.,  0.,  0.,  0.,  2.]),\n",
       " array([ 10. ,  19.8,  29.6,  39.4,  49.2,  59. ,  68.8,  78.6,  88.4,\n",
       "         98.2, 108. ]),\n",
       " <BarContainer object of 10 artists>)"
      ]
     },
     "execution_count": 42,
     "metadata": {},
     "output_type": "execute_result"
    },
    {
     "data": {
      "image/png": "[encoded data removed]",
      "text/plain": [
       "<Figure size 640x480 with 1 Axes>"
      ]
     },
     "metadata": {},
     "output_type": "display_data"
    }
   ],
   "source": [
    "plt.hist(our_dataset)"
   ]
  },
  {
   "cell_type": "markdown",
   "id": "a8f56338",
   "metadata": {},
   "source": [
    "##### Find and remove outliers"
   ]
  },
  {
   "cell_type": "code",
   "execution_count": 43,
   "id": "17221204",
   "metadata": {},
   "outputs": [
    {
     "data": {
      "text/plain": [
       "(array([2., 0., 0., 1., 3., 0., 1., 0., 0., 0., 0., 0., 0., 0., 2.]),\n",
       " array([  2.        ,   8.86666667,  15.73333333,  22.6       ,\n",
       "         29.46666667,  36.33333333,  43.2       ,  50.06666667,\n",
       "         56.93333333,  63.8       ,  70.66666667,  77.53333333,\n",
       "         84.4       ,  91.26666667,  98.13333333, 105.        ]),\n",
       " <BarContainer object of 15 artists>)"
      ]
     },
     "execution_count": 43,
     "metadata": {},
     "output_type": "execute_result"
    },
    {
     "data": {
      "image/png": "[encoded data removed]",
      "text/plain": [
       "<Figure size 640x480 with 1 Axes>"
      ]
     },
     "metadata": {},
     "output_type": "display_data"
    }
   ],
   "source": [
    "plt.hist(dataset['Age'],bins=15)"
   ]
  },
  {
   "cell_type": "code",
   "execution_count": 44,
   "id": "90173df7",
   "metadata": {},
   "outputs": [],
   "source": [
    "# Quantile Method"
   ]
  },
  {
   "cell_type": "code",
   "execution_count": 45,
   "id": "da0998a3",
   "metadata": {},
   "outputs": [],
   "source": [
    "lowerLimit = dataset['Age'].quantile(0.05) "
   ]
  },
  {
   "cell_type": "code",
   "execution_count": 46,
   "id": "d934bdd9",
   "metadata": {},
   "outputs": [
    {
     "data": {
      "text/plain": [
       "2.4"
      ]
     },
     "execution_count": 46,
     "metadata": {},
     "output_type": "execute_result"
    }
   ],
   "source": [
    "lowerLimit"
   ]
  },
  {
   "cell_type": "code",
   "execution_count": 47,
   "id": "8330371d",
   "metadata": {},
   "outputs": [],
   "source": [
    "upperLimit = dataset['Age'].quantile(0.95)"
   ]
  },
  {
   "cell_type": "code",
   "execution_count": 48,
   "id": "fc80caec",
   "metadata": {},
   "outputs": [
    {
     "data": {
      "text/plain": [
       "105.0"
      ]
     },
     "execution_count": 48,
     "metadata": {},
     "output_type": "execute_result"
    }
   ],
   "source": [
    "upperLimit"
   ]
  }
 ],
 "metadata": {
  "kernelspec": {
   "display_name": "Python 3 (ipykernel)",
   "language": "python",
   "name": "python3"
  },
  "language_info": {
   "codemirror_mode": {
    "name": "ipython",
    "version": 3
   },
   "file_extension": ".py",
   "mimetype": "text/x-python",
   "name": "python",
   "nbconvert_exporter": "python",
   "pygments_lexer": "ipython3",
   "version": "3.11.5"
  }
 },
 "nbformat": 4,
 "nbformat_minor": 5
}
