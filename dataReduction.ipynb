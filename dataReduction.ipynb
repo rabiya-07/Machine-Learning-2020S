{
 "cells": [
  {
   "cell_type": "code",
   "execution_count": null,
   "id": "ad38c6df",
   "metadata": {},
   "outputs": [],
   "source": [
    "# https://www.youtube.com/watch?v=A4FOv1dL2to   "
   ]
  },
  {
   "cell_type": "code",
   "execution_count": 40,
   "id": "98f31ac1",
   "metadata": {},
   "outputs": [],
   "source": [
    "import pandas as pd\n",
    "import numpy as np"
   ]
  },
  {
   "cell_type": "code",
   "execution_count": 41,
   "id": "1c373ee9",
   "metadata": {},
   "outputs": [],
   "source": [
    "df4 = pd.read_csv('F:\\Dept\\Machine Learning\\Lectures\\Week 3 Data Preprocessing\\Data Preprocessing\\EmpData4.csv')"
   ]
  },
  {
   "cell_type": "code",
   "execution_count": 42,
   "id": "ae94c015",
   "metadata": {},
   "outputs": [
    {
     "data": {
      "text/html": [
       "<div>\n",
       "<style scoped>\n",
       "    .dataframe tbody tr th:only-of-type {\n",
       "        vertical-align: middle;\n",
       "    }\n",
       "\n",
       "    .dataframe tbody tr th {\n",
       "        vertical-align: top;\n",
       "    }\n",
       "\n",
       "    .dataframe thead th {\n",
       "        text-align: right;\n",
       "    }\n",
       "</style>\n",
       "<table border=\"1\" class=\"dataframe\">\n",
       "  <thead>\n",
       "    <tr style=\"text-align: right;\">\n",
       "      <th></th>\n",
       "      <th>Name</th>\n",
       "      <th>Age</th>\n",
       "      <th>Education</th>\n",
       "      <th>Salary</th>\n",
       "      <th>Designation</th>\n",
       "      <th>City</th>\n",
       "    </tr>\n",
       "  </thead>\n",
       "  <tbody>\n",
       "    <tr>\n",
       "      <th>0</th>\n",
       "      <td>Raja</td>\n",
       "      <td>32</td>\n",
       "      <td>M.Sc</td>\n",
       "      <td>100000</td>\n",
       "      <td>GM</td>\n",
       "      <td>Karachi</td>\n",
       "    </tr>\n",
       "    <tr>\n",
       "      <th>1</th>\n",
       "      <td>Khadim Ali</td>\n",
       "      <td>25</td>\n",
       "      <td>B.Sc</td>\n",
       "      <td>75000</td>\n",
       "      <td>Superitendent</td>\n",
       "      <td>Hyderabad</td>\n",
       "    </tr>\n",
       "    <tr>\n",
       "      <th>2</th>\n",
       "      <td>Babar</td>\n",
       "      <td>45</td>\n",
       "      <td>Intermediate</td>\n",
       "      <td>50000</td>\n",
       "      <td>Clerk</td>\n",
       "      <td>Sukkur</td>\n",
       "    </tr>\n",
       "    <tr>\n",
       "      <th>3</th>\n",
       "      <td>Rashid Ali</td>\n",
       "      <td>25</td>\n",
       "      <td>Matric</td>\n",
       "      <td>35000</td>\n",
       "      <td>Peon</td>\n",
       "      <td>Karachi</td>\n",
       "    </tr>\n",
       "    <tr>\n",
       "      <th>4</th>\n",
       "      <td>Qasim</td>\n",
       "      <td>57</td>\n",
       "      <td>M.A</td>\n",
       "      <td>90000</td>\n",
       "      <td>Manager</td>\n",
       "      <td>Hyderabad</td>\n",
       "    </tr>\n",
       "    <tr>\n",
       "      <th>5</th>\n",
       "      <td>Majid</td>\n",
       "      <td>28</td>\n",
       "      <td>B.A</td>\n",
       "      <td>76000</td>\n",
       "      <td>Head Clerk</td>\n",
       "      <td>Sukkur</td>\n",
       "    </tr>\n",
       "  </tbody>\n",
       "</table>\n",
       "</div>"
      ],
      "text/plain": [
       "         Name  Age    Education   Salary    Designation       City\n",
       "0        Raja   32          M.Sc  100000             GM    Karachi\n",
       "1  Khadim Ali   25          B.Sc   75000  Superitendent  Hyderabad\n",
       "2       Babar   45  Intermediate   50000          Clerk     Sukkur\n",
       "3  Rashid Ali   25        Matric   35000           Peon    Karachi\n",
       "4       Qasim   57           M.A   90000        Manager  Hyderabad\n",
       "5       Majid   28           B.A   76000     Head Clerk     Sukkur"
      ]
     },
     "metadata": {},
     "output_type": "display_data"
    }
   ],
   "source": [
    "display(df4)"
   ]
  },
  {
   "cell_type": "code",
   "execution_count": 43,
   "id": "cdbc7569",
   "metadata": {},
   "outputs": [],
   "source": [
    "df4.drop(['City', 'Age'], axis=1, inplace=True)\n",
    "# axis=0: This refers to operations along rows, where you perform an \n",
    "# operation on elements within the same row\n",
    "\n",
    "# axis=1: This refers to operations along columns, where you perform \n",
    "# an operation on elements within the same column.\n",
    "\n",
    "# inplace=True: If you set inplace=True, the DataFrame will be modified \n",
    "# in place, and the changes will be applied directly to the original \n",
    "# DataFrame."
   ]
  },
  {
   "cell_type": "code",
   "execution_count": 44,
   "id": "a9045036",
   "metadata": {},
   "outputs": [
    {
     "data": {
      "text/html": [
       "<div>\n",
       "<style scoped>\n",
       "    .dataframe tbody tr th:only-of-type {\n",
       "        vertical-align: middle;\n",
       "    }\n",
       "\n",
       "    .dataframe tbody tr th {\n",
       "        vertical-align: top;\n",
       "    }\n",
       "\n",
       "    .dataframe thead th {\n",
       "        text-align: right;\n",
       "    }\n",
       "</style>\n",
       "<table border=\"1\" class=\"dataframe\">\n",
       "  <thead>\n",
       "    <tr style=\"text-align: right;\">\n",
       "      <th></th>\n",
       "      <th>Name</th>\n",
       "      <th>Education</th>\n",
       "      <th>Salary</th>\n",
       "      <th>Designation</th>\n",
       "    </tr>\n",
       "  </thead>\n",
       "  <tbody>\n",
       "    <tr>\n",
       "      <th>0</th>\n",
       "      <td>Raja</td>\n",
       "      <td>M.Sc</td>\n",
       "      <td>100000</td>\n",
       "      <td>GM</td>\n",
       "    </tr>\n",
       "    <tr>\n",
       "      <th>1</th>\n",
       "      <td>Khadim Ali</td>\n",
       "      <td>B.Sc</td>\n",
       "      <td>75000</td>\n",
       "      <td>Superitendent</td>\n",
       "    </tr>\n",
       "    <tr>\n",
       "      <th>2</th>\n",
       "      <td>Babar</td>\n",
       "      <td>Intermediate</td>\n",
       "      <td>50000</td>\n",
       "      <td>Clerk</td>\n",
       "    </tr>\n",
       "    <tr>\n",
       "      <th>3</th>\n",
       "      <td>Rashid Ali</td>\n",
       "      <td>Matric</td>\n",
       "      <td>35000</td>\n",
       "      <td>Peon</td>\n",
       "    </tr>\n",
       "    <tr>\n",
       "      <th>4</th>\n",
       "      <td>Qasim</td>\n",
       "      <td>M.A</td>\n",
       "      <td>90000</td>\n",
       "      <td>Manager</td>\n",
       "    </tr>\n",
       "    <tr>\n",
       "      <th>5</th>\n",
       "      <td>Majid</td>\n",
       "      <td>B.A</td>\n",
       "      <td>76000</td>\n",
       "      <td>Head Clerk</td>\n",
       "    </tr>\n",
       "  </tbody>\n",
       "</table>\n",
       "</div>"
      ],
      "text/plain": [
       "         Name    Education   Salary    Designation\n",
       "0        Raja          M.Sc  100000             GM\n",
       "1  Khadim Ali          B.Sc   75000  Superitendent\n",
       "2       Babar  Intermediate   50000          Clerk\n",
       "3  Rashid Ali        Matric   35000           Peon\n",
       "4       Qasim           M.A   90000        Manager\n",
       "5       Majid           B.A   76000     Head Clerk"
      ]
     },
     "metadata": {},
     "output_type": "display_data"
    }
   ],
   "source": [
    "display(df4)"
   ]
  },
  {
   "cell_type": "code",
   "execution_count": null,
   "id": "d7753706",
   "metadata": {},
   "outputs": [],
   "source": []
  },
  {
   "cell_type": "code",
   "execution_count": null,
   "id": "ae56cbc3",
   "metadata": {},
   "outputs": [],
   "source": []
  }
 ],
 "metadata": {
  "kernelspec": {
   "display_name": "Python 3 (ipykernel)",
   "language": "python",
   "name": "python3"
  },
  "language_info": {
   "codemirror_mode": {
    "name": "ipython",
    "version": 3
   },
   "file_extension": ".py",
   "mimetype": "text/x-python",
   "name": "python",
   "nbconvert_exporter": "python",
   "pygments_lexer": "ipython3",
   "version": "3.11.5"
  }
 },
 "nbformat": 4,
 "nbformat_minor": 5
}
